{
  "cells": [
    {
      "cell_type": "code",
      "source": [
        "import pandas as pd\r\n",
        "from sklearn.model_selection import train_test_split\r\n",
        "from sklearn.linear_model import LinearRegression\r\n",
        "from sklearn.metrics import mean_squared_error\r\n",
        "from math import sqrt"
      ],
      "outputs": [],
      "execution_count": 1,
      "metadata": {
        "gather": {
          "logged": 1678081444735
        }
      }
    },
    {
      "cell_type": "code",
      "source": [
        "df = pd.read_csv('nyc-taxi-data.csv') \r\n",
        "df.head(10)"
      ],
      "outputs": [
        {
          "output_type": "execute_result",
          "execution_count": 2,
          "data": {
            "text/plain": "   vendorID lpepPickupDatetime lpepDropoffDatetime  passengerCount  \\\n0         2   30-01-2015 18:38    30-01-2015 19:01               1   \n1         1   17-01-2015 23:21    17-01-2015 23:35               1   \n2         2   16-01-2015 01:38    16-01-2015 01:52               1   \n3         2   04-01-2015 17:09    04-01-2015 17:16               1   \n4         1   14-01-2015 10:10    14-01-2015 10:33               1   \n5         2   19-01-2015 18:10    19-01-2015 18:32               1   \n6         2   01-01-2015 15:44    01-01-2015 15:50               1   \n7         2   12-01-2015 08:01    12-01-2015 08:14               5   \n8         1   16-01-2015 21:54    16-01-2015 22:12               1   \n9         2   06-01-2015 06:34    06-01-2015 06:44               1   \n\n   tripDistance  puLocationId  doLocationId  pickupLongitude  pickupLatitude  \\\n0          1.88           NaN           NaN       -73.996155       40.690903   \n1          2.70           NaN           NaN       -73.978508       40.687984   \n2          3.54           NaN           NaN       -73.957787       40.721779   \n3          1.00           NaN           NaN       -73.919914       40.826023   \n4          5.10           NaN           NaN       -73.943710       40.825439   \n5          7.41           NaN           NaN       -73.940918       40.839714   \n6          1.03           NaN           NaN       -73.985718       40.685646   \n7          2.94           NaN           NaN       -73.939865       40.789822   \n8          3.00           NaN           NaN       -73.957939       40.721928   \n9          2.31           NaN           NaN       -73.943825       40.810257   \n\n   dropoffLongitude  ...  fareAmount  extra mtaTax  improvementSurcharge  \\\n0        -73.964287  ...        15.0    1.0    0.5                   0.3   \n1        -73.955116  ...        11.5    0.5    0.5                   0.3   \n2        -73.963005  ...        13.5    0.5    0.5                   0.3   \n3        -73.904839  ...         6.5    0.0    0.5                   0.3   \n4        -73.982964  ...        18.5    0.0    0.5                   0.3   \n5        -73.994339  ...        24.0    0.0    0.5                   0.3   \n6        -73.996773  ...         6.5    0.0    0.5                   0.3   \n7        -73.952957  ...        12.5    0.0    0.5                   0.3   \n8        -73.926247  ...        14.0    0.5    0.5                   0.3   \n9        -73.943062  ...        10.0    0.0    0.5                   0.3   \n\n   tipAmount  tollsAmount  ehailFee  totalAmount  tripType  __index_level_0__  \n0       4.00          0.0       NaN        20.80         1   30-01-2015 18:38  \n1       2.55          0.0       NaN        15.35         1   17-01-2015 23:21  \n2       2.80          0.0       NaN        17.60         1   16-01-2015 01:38  \n3       0.00          0.0       NaN         7.30         1   04-01-2015 17:09  \n4       3.85          0.0       NaN        23.15         1   14-01-2015 10:10  \n5       4.80          0.0       NaN        29.60         1   19-01-2015 18:10  \n6       1.30          0.0       NaN         8.60         1   01-01-2015 15:44  \n7       0.00          0.0       NaN        13.30         1   12-01-2015 08:01  \n8       2.00          0.0       NaN        17.30         1   16-01-2015 21:54  \n9       2.00          0.0       NaN        12.80         1   06-01-2015 06:34  \n\n[10 rows x 24 columns]",
            "text/html": "<div>\n<style scoped>\n    .dataframe tbody tr th:only-of-type {\n        vertical-align: middle;\n    }\n\n    .dataframe tbody tr th {\n        vertical-align: top;\n    }\n\n    .dataframe thead th {\n        text-align: right;\n    }\n</style>\n<table border=\"1\" class=\"dataframe\">\n  <thead>\n    <tr style=\"text-align: right;\">\n      <th></th>\n      <th>vendorID</th>\n      <th>lpepPickupDatetime</th>\n      <th>lpepDropoffDatetime</th>\n      <th>passengerCount</th>\n      <th>tripDistance</th>\n      <th>puLocationId</th>\n      <th>doLocationId</th>\n      <th>pickupLongitude</th>\n      <th>pickupLatitude</th>\n      <th>dropoffLongitude</th>\n      <th>...</th>\n      <th>fareAmount</th>\n      <th>extra</th>\n      <th>mtaTax</th>\n      <th>improvementSurcharge</th>\n      <th>tipAmount</th>\n      <th>tollsAmount</th>\n      <th>ehailFee</th>\n      <th>totalAmount</th>\n      <th>tripType</th>\n      <th>__index_level_0__</th>\n    </tr>\n  </thead>\n  <tbody>\n    <tr>\n      <th>0</th>\n      <td>2</td>\n      <td>30-01-2015 18:38</td>\n      <td>30-01-2015 19:01</td>\n      <td>1</td>\n      <td>1.88</td>\n      <td>NaN</td>\n      <td>NaN</td>\n      <td>-73.996155</td>\n      <td>40.690903</td>\n      <td>-73.964287</td>\n      <td>...</td>\n      <td>15.0</td>\n      <td>1.0</td>\n      <td>0.5</td>\n      <td>0.3</td>\n      <td>4.00</td>\n      <td>0.0</td>\n      <td>NaN</td>\n      <td>20.80</td>\n      <td>1</td>\n      <td>30-01-2015 18:38</td>\n    </tr>\n    <tr>\n      <th>1</th>\n      <td>1</td>\n      <td>17-01-2015 23:21</td>\n      <td>17-01-2015 23:35</td>\n      <td>1</td>\n      <td>2.70</td>\n      <td>NaN</td>\n      <td>NaN</td>\n      <td>-73.978508</td>\n      <td>40.687984</td>\n      <td>-73.955116</td>\n      <td>...</td>\n      <td>11.5</td>\n      <td>0.5</td>\n      <td>0.5</td>\n      <td>0.3</td>\n      <td>2.55</td>\n      <td>0.0</td>\n      <td>NaN</td>\n      <td>15.35</td>\n      <td>1</td>\n      <td>17-01-2015 23:21</td>\n    </tr>\n    <tr>\n      <th>2</th>\n      <td>2</td>\n      <td>16-01-2015 01:38</td>\n      <td>16-01-2015 01:52</td>\n      <td>1</td>\n      <td>3.54</td>\n      <td>NaN</td>\n      <td>NaN</td>\n      <td>-73.957787</td>\n      <td>40.721779</td>\n      <td>-73.963005</td>\n      <td>...</td>\n      <td>13.5</td>\n      <td>0.5</td>\n      <td>0.5</td>\n      <td>0.3</td>\n      <td>2.80</td>\n      <td>0.0</td>\n      <td>NaN</td>\n      <td>17.60</td>\n      <td>1</td>\n      <td>16-01-2015 01:38</td>\n    </tr>\n    <tr>\n      <th>3</th>\n      <td>2</td>\n      <td>04-01-2015 17:09</td>\n      <td>04-01-2015 17:16</td>\n      <td>1</td>\n      <td>1.00</td>\n      <td>NaN</td>\n      <td>NaN</td>\n      <td>-73.919914</td>\n      <td>40.826023</td>\n      <td>-73.904839</td>\n      <td>...</td>\n      <td>6.5</td>\n      <td>0.0</td>\n      <td>0.5</td>\n      <td>0.3</td>\n      <td>0.00</td>\n      <td>0.0</td>\n      <td>NaN</td>\n      <td>7.30</td>\n      <td>1</td>\n      <td>04-01-2015 17:09</td>\n    </tr>\n    <tr>\n      <th>4</th>\n      <td>1</td>\n      <td>14-01-2015 10:10</td>\n      <td>14-01-2015 10:33</td>\n      <td>1</td>\n      <td>5.10</td>\n      <td>NaN</td>\n      <td>NaN</td>\n      <td>-73.943710</td>\n      <td>40.825439</td>\n      <td>-73.982964</td>\n      <td>...</td>\n      <td>18.5</td>\n      <td>0.0</td>\n      <td>0.5</td>\n      <td>0.3</td>\n      <td>3.85</td>\n      <td>0.0</td>\n      <td>NaN</td>\n      <td>23.15</td>\n      <td>1</td>\n      <td>14-01-2015 10:10</td>\n    </tr>\n    <tr>\n      <th>5</th>\n      <td>2</td>\n      <td>19-01-2015 18:10</td>\n      <td>19-01-2015 18:32</td>\n      <td>1</td>\n      <td>7.41</td>\n      <td>NaN</td>\n      <td>NaN</td>\n      <td>-73.940918</td>\n      <td>40.839714</td>\n      <td>-73.994339</td>\n      <td>...</td>\n      <td>24.0</td>\n      <td>0.0</td>\n      <td>0.5</td>\n      <td>0.3</td>\n      <td>4.80</td>\n      <td>0.0</td>\n      <td>NaN</td>\n      <td>29.60</td>\n      <td>1</td>\n      <td>19-01-2015 18:10</td>\n    </tr>\n    <tr>\n      <th>6</th>\n      <td>2</td>\n      <td>01-01-2015 15:44</td>\n      <td>01-01-2015 15:50</td>\n      <td>1</td>\n      <td>1.03</td>\n      <td>NaN</td>\n      <td>NaN</td>\n      <td>-73.985718</td>\n      <td>40.685646</td>\n      <td>-73.996773</td>\n      <td>...</td>\n      <td>6.5</td>\n      <td>0.0</td>\n      <td>0.5</td>\n      <td>0.3</td>\n      <td>1.30</td>\n      <td>0.0</td>\n      <td>NaN</td>\n      <td>8.60</td>\n      <td>1</td>\n      <td>01-01-2015 15:44</td>\n    </tr>\n    <tr>\n      <th>7</th>\n      <td>2</td>\n      <td>12-01-2015 08:01</td>\n      <td>12-01-2015 08:14</td>\n      <td>5</td>\n      <td>2.94</td>\n      <td>NaN</td>\n      <td>NaN</td>\n      <td>-73.939865</td>\n      <td>40.789822</td>\n      <td>-73.952957</td>\n      <td>...</td>\n      <td>12.5</td>\n      <td>0.0</td>\n      <td>0.5</td>\n      <td>0.3</td>\n      <td>0.00</td>\n      <td>0.0</td>\n      <td>NaN</td>\n      <td>13.30</td>\n      <td>1</td>\n      <td>12-01-2015 08:01</td>\n    </tr>\n    <tr>\n      <th>8</th>\n      <td>1</td>\n      <td>16-01-2015 21:54</td>\n      <td>16-01-2015 22:12</td>\n      <td>1</td>\n      <td>3.00</td>\n      <td>NaN</td>\n      <td>NaN</td>\n      <td>-73.957939</td>\n      <td>40.721928</td>\n      <td>-73.926247</td>\n      <td>...</td>\n      <td>14.0</td>\n      <td>0.5</td>\n      <td>0.5</td>\n      <td>0.3</td>\n      <td>2.00</td>\n      <td>0.0</td>\n      <td>NaN</td>\n      <td>17.30</td>\n      <td>1</td>\n      <td>16-01-2015 21:54</td>\n    </tr>\n    <tr>\n      <th>9</th>\n      <td>2</td>\n      <td>06-01-2015 06:34</td>\n      <td>06-01-2015 06:44</td>\n      <td>1</td>\n      <td>2.31</td>\n      <td>NaN</td>\n      <td>NaN</td>\n      <td>-73.943825</td>\n      <td>40.810257</td>\n      <td>-73.943062</td>\n      <td>...</td>\n      <td>10.0</td>\n      <td>0.0</td>\n      <td>0.5</td>\n      <td>0.3</td>\n      <td>2.00</td>\n      <td>0.0</td>\n      <td>NaN</td>\n      <td>12.80</td>\n      <td>1</td>\n      <td>06-01-2015 06:34</td>\n    </tr>\n  </tbody>\n</table>\n<p>10 rows × 24 columns</p>\n</div>"
          },
          "metadata": {}
        }
      ],
      "execution_count": 2,
      "metadata": {
        "jupyter": {
          "source_hidden": false,
          "outputs_hidden": false
        },
        "nteract": {
          "transient": {
            "deleting": false
          }
        },
        "gather": {
          "logged": 1678081445183
        }
      }
    },
    {
      "cell_type": "code",
      "source": [
        "taxi_df = df[[\r\n",
        "    'vendorID','passengerCount','tripDistance',\r\n",
        "    'pickupLongitude','pickupLatitude','dropoffLongitude',\r\n",
        "    'dropoffLatitude','totalAmount'\r\n",
        "    ]]\r\n",
        "taxi_df.describe()"
      ],
      "outputs": [
        {
          "output_type": "execute_result",
          "execution_count": 3,
          "data": {
            "text/plain": "           vendorID  passengerCount  tripDistance  pickupLongitude  \\\ncount  24000.000000    24000.000000  24000.000000     24000.000000   \nmean       1.777625        1.373625      2.893981       -73.827403   \nstd        0.415850        1.046180      3.072343         2.821767   \nmin        1.000000        0.000000      0.000000       -74.357101   \n25%        2.000000        1.000000      1.050000       -73.959175   \n50%        2.000000        1.000000      1.930000       -73.945049   \n75%        2.000000        1.000000      3.700000       -73.917089   \nmax        2.000000        8.000000    154.280000         0.000000   \n\n       pickupLatitude  dropoffLongitude  dropoffLatitude   totalAmount  \ncount    24000.000000      24000.000000     24000.000000  24000.000000  \nmean        40.689730        -73.819670        40.684436     14.892744  \nstd          1.556082          2.901199         1.599776     12.339749  \nmin          0.000000        -74.342766         0.000000   -120.800000  \n25%         40.699127        -73.966476        40.699459      8.000000  \n50%         40.746754        -73.944221        40.747536     11.300000  \n75%         40.803060        -73.909061        40.791526     17.800000  \nmax         41.109089          0.000000        40.982826    425.000000  ",
            "text/html": "<div>\n<style scoped>\n    .dataframe tbody tr th:only-of-type {\n        vertical-align: middle;\n    }\n\n    .dataframe tbody tr th {\n        vertical-align: top;\n    }\n\n    .dataframe thead th {\n        text-align: right;\n    }\n</style>\n<table border=\"1\" class=\"dataframe\">\n  <thead>\n    <tr style=\"text-align: right;\">\n      <th></th>\n      <th>vendorID</th>\n      <th>passengerCount</th>\n      <th>tripDistance</th>\n      <th>pickupLongitude</th>\n      <th>pickupLatitude</th>\n      <th>dropoffLongitude</th>\n      <th>dropoffLatitude</th>\n      <th>totalAmount</th>\n    </tr>\n  </thead>\n  <tbody>\n    <tr>\n      <th>count</th>\n      <td>24000.000000</td>\n      <td>24000.000000</td>\n      <td>24000.000000</td>\n      <td>24000.000000</td>\n      <td>24000.000000</td>\n      <td>24000.000000</td>\n      <td>24000.000000</td>\n      <td>24000.000000</td>\n    </tr>\n    <tr>\n      <th>mean</th>\n      <td>1.777625</td>\n      <td>1.373625</td>\n      <td>2.893981</td>\n      <td>-73.827403</td>\n      <td>40.689730</td>\n      <td>-73.819670</td>\n      <td>40.684436</td>\n      <td>14.892744</td>\n    </tr>\n    <tr>\n      <th>std</th>\n      <td>0.415850</td>\n      <td>1.046180</td>\n      <td>3.072343</td>\n      <td>2.821767</td>\n      <td>1.556082</td>\n      <td>2.901199</td>\n      <td>1.599776</td>\n      <td>12.339749</td>\n    </tr>\n    <tr>\n      <th>min</th>\n      <td>1.000000</td>\n      <td>0.000000</td>\n      <td>0.000000</td>\n      <td>-74.357101</td>\n      <td>0.000000</td>\n      <td>-74.342766</td>\n      <td>0.000000</td>\n      <td>-120.800000</td>\n    </tr>\n    <tr>\n      <th>25%</th>\n      <td>2.000000</td>\n      <td>1.000000</td>\n      <td>1.050000</td>\n      <td>-73.959175</td>\n      <td>40.699127</td>\n      <td>-73.966476</td>\n      <td>40.699459</td>\n      <td>8.000000</td>\n    </tr>\n    <tr>\n      <th>50%</th>\n      <td>2.000000</td>\n      <td>1.000000</td>\n      <td>1.930000</td>\n      <td>-73.945049</td>\n      <td>40.746754</td>\n      <td>-73.944221</td>\n      <td>40.747536</td>\n      <td>11.300000</td>\n    </tr>\n    <tr>\n      <th>75%</th>\n      <td>2.000000</td>\n      <td>1.000000</td>\n      <td>3.700000</td>\n      <td>-73.917089</td>\n      <td>40.803060</td>\n      <td>-73.909061</td>\n      <td>40.791526</td>\n      <td>17.800000</td>\n    </tr>\n    <tr>\n      <th>max</th>\n      <td>2.000000</td>\n      <td>8.000000</td>\n      <td>154.280000</td>\n      <td>0.000000</td>\n      <td>41.109089</td>\n      <td>0.000000</td>\n      <td>40.982826</td>\n      <td>425.000000</td>\n    </tr>\n  </tbody>\n</table>\n</div>"
          },
          "metadata": {}
        }
      ],
      "execution_count": 3,
      "metadata": {
        "jupyter": {
          "source_hidden": false,
          "outputs_hidden": false
        },
        "nteract": {
          "transient": {
            "deleting": false
          }
        },
        "gather": {
          "logged": 1678081477632
        }
      }
    },
    {
      "cell_type": "code",
      "source": [
        "# X will hold the data set for model training.\r\n",
        "X = taxi_df.drop([\"totalAmount\"], axis=1)\r\n",
        "# y is the target column i.e., values to predict.\r\n",
        "y = taxi_df[\"totalAmount\"]\r\n",
        "\r\n",
        "X_train, X_test, y_train, y_test = train_test_split(X, y, test_size=0.2, random_state=223)"
      ],
      "outputs": [],
      "execution_count": 5,
      "metadata": {
        "jupyter": {
          "source_hidden": false,
          "outputs_hidden": false
        },
        "nteract": {
          "transient": {
            "deleting": false
          }
        },
        "gather": {
          "logged": 1678081520466
        }
      }
    },
    {
      "cell_type": "code",
      "source": [
        "model=LinearRegression()\r\n",
        "model.fit(X_train, y_train)"
      ],
      "outputs": [
        {
          "output_type": "execute_result",
          "execution_count": 6,
          "data": {
            "text/plain": "LinearRegression()",
            "text/html": "<style>#sk-container-id-1 {color: black;background-color: white;}#sk-container-id-1 pre{padding: 0;}#sk-container-id-1 div.sk-toggleable {background-color: white;}#sk-container-id-1 label.sk-toggleable__label {cursor: pointer;display: block;width: 100%;margin-bottom: 0;padding: 0.3em;box-sizing: border-box;text-align: center;}#sk-container-id-1 label.sk-toggleable__label-arrow:before {content: \"▸\";float: left;margin-right: 0.25em;color: #696969;}#sk-container-id-1 label.sk-toggleable__label-arrow:hover:before {color: black;}#sk-container-id-1 div.sk-estimator:hover label.sk-toggleable__label-arrow:before {color: black;}#sk-container-id-1 div.sk-toggleable__content {max-height: 0;max-width: 0;overflow: hidden;text-align: left;background-color: #f0f8ff;}#sk-container-id-1 div.sk-toggleable__content pre {margin: 0.2em;color: black;border-radius: 0.25em;background-color: #f0f8ff;}#sk-container-id-1 input.sk-toggleable__control:checked~div.sk-toggleable__content {max-height: 200px;max-width: 100%;overflow: auto;}#sk-container-id-1 input.sk-toggleable__control:checked~label.sk-toggleable__label-arrow:before {content: \"▾\";}#sk-container-id-1 div.sk-estimator input.sk-toggleable__control:checked~label.sk-toggleable__label {background-color: #d4ebff;}#sk-container-id-1 div.sk-label input.sk-toggleable__control:checked~label.sk-toggleable__label {background-color: #d4ebff;}#sk-container-id-1 input.sk-hidden--visually {border: 0;clip: rect(1px 1px 1px 1px);clip: rect(1px, 1px, 1px, 1px);height: 1px;margin: -1px;overflow: hidden;padding: 0;position: absolute;width: 1px;}#sk-container-id-1 div.sk-estimator {font-family: monospace;background-color: #f0f8ff;border: 1px dotted black;border-radius: 0.25em;box-sizing: border-box;margin-bottom: 0.5em;}#sk-container-id-1 div.sk-estimator:hover {background-color: #d4ebff;}#sk-container-id-1 div.sk-parallel-item::after {content: \"\";width: 100%;border-bottom: 1px solid gray;flex-grow: 1;}#sk-container-id-1 div.sk-label:hover label.sk-toggleable__label {background-color: #d4ebff;}#sk-container-id-1 div.sk-serial::before {content: \"\";position: absolute;border-left: 1px solid gray;box-sizing: border-box;top: 0;bottom: 0;left: 50%;z-index: 0;}#sk-container-id-1 div.sk-serial {display: flex;flex-direction: column;align-items: center;background-color: white;padding-right: 0.2em;padding-left: 0.2em;position: relative;}#sk-container-id-1 div.sk-item {position: relative;z-index: 1;}#sk-container-id-1 div.sk-parallel {display: flex;align-items: stretch;justify-content: center;background-color: white;position: relative;}#sk-container-id-1 div.sk-item::before, #sk-container-id-1 div.sk-parallel-item::before {content: \"\";position: absolute;border-left: 1px solid gray;box-sizing: border-box;top: 0;bottom: 0;left: 50%;z-index: -1;}#sk-container-id-1 div.sk-parallel-item {display: flex;flex-direction: column;z-index: 1;position: relative;background-color: white;}#sk-container-id-1 div.sk-parallel-item:first-child::after {align-self: flex-end;width: 50%;}#sk-container-id-1 div.sk-parallel-item:last-child::after {align-self: flex-start;width: 50%;}#sk-container-id-1 div.sk-parallel-item:only-child::after {width: 0;}#sk-container-id-1 div.sk-dashed-wrapped {border: 1px dashed gray;margin: 0 0.4em 0.5em 0.4em;box-sizing: border-box;padding-bottom: 0.4em;background-color: white;}#sk-container-id-1 div.sk-label label {font-family: monospace;font-weight: bold;display: inline-block;line-height: 1.2em;}#sk-container-id-1 div.sk-label-container {text-align: center;}#sk-container-id-1 div.sk-container {/* jupyter's `normalize.less` sets `[hidden] { display: none; }` but bootstrap.min.css set `[hidden] { display: none !important; }` so we also need the `!important` here to be able to override the default hidden behavior on the sphinx rendered scikit-learn.org. See: https://github.com/scikit-learn/scikit-learn/issues/21755 */display: inline-block !important;position: relative;}#sk-container-id-1 div.sk-text-repr-fallback {display: none;}</style><div id=\"sk-container-id-1\" class=\"sk-top-container\"><div class=\"sk-text-repr-fallback\"><pre>LinearRegression()</pre><b>In a Jupyter environment, please rerun this cell to show the HTML representation or trust the notebook. <br />On GitHub, the HTML representation is unable to render, please try loading this page with nbviewer.org.</b></div><div class=\"sk-container\" hidden><div class=\"sk-item\"><div class=\"sk-estimator sk-toggleable\"><input class=\"sk-toggleable__control sk-hidden--visually\" id=\"sk-estimator-id-1\" type=\"checkbox\" checked><label for=\"sk-estimator-id-1\" class=\"sk-toggleable__label sk-toggleable__label-arrow\">LinearRegression</label><div class=\"sk-toggleable__content\"><pre>LinearRegression()</pre></div></div></div></div></div>"
          },
          "metadata": {}
        }
      ],
      "execution_count": 6,
      "metadata": {
        "jupyter": {
          "source_hidden": false,
          "outputs_hidden": false
        },
        "nteract": {
          "transient": {
            "deleting": false
          }
        },
        "gather": {
          "logged": 1678081526584
        }
      }
    },
    {
      "cell_type": "code",
      "source": [
        "y_predict = model.predict(X_test)\r\n",
        "y_actual = y_test.values.flatten().tolist()\r\n",
        "rmse = sqrt(mean_squared_error(y_actual, y_predict))\r\n",
        "rmse"
      ],
      "outputs": [
        {
          "output_type": "execute_result",
          "execution_count": 7,
          "data": {
            "text/plain": "9.288401554808246"
          },
          "metadata": {}
        }
      ],
      "execution_count": 7,
      "metadata": {
        "jupyter": {
          "source_hidden": false,
          "outputs_hidden": false
        },
        "nteract": {
          "transient": {
            "deleting": false
          }
        },
        "gather": {
          "logged": 1678081540570
        }
      }
    },
    {
      "cell_type": "code",
      "source": [
        "sum_actuals = sum_errors = 0\r\n",
        "\r\n",
        "for actual_val, predict_val in zip(y_actual, y_predict):\r\n",
        "    abs_error = actual_val - predict_val\r\n",
        "    if abs_error < 0:\r\n",
        "        abs_error = abs_error * -1\r\n",
        "\r\n",
        "    sum_errors = sum_errors + abs_error\r\n",
        "    sum_actuals = sum_actuals + actual_val\r\n",
        "\r\n",
        "mean_abs_percent_error = sum_errors / sum_actuals\r\n",
        "print(\"Model MAPE:\")\r\n",
        "print(mean_abs_percent_error)\r\n",
        "print()\r\n",
        "print(\"Model Accuracy:\")\r\n",
        "print(1 - mean_abs_percent_error)"
      ],
      "outputs": [
        {
          "output_type": "stream",
          "name": "stdout",
          "text": "Model MAPE:\n0.1791376980189607\n\nModel Accuracy:\n0.8208623019810393\n"
        }
      ],
      "execution_count": 8,
      "metadata": {
        "jupyter": {
          "source_hidden": false,
          "outputs_hidden": false
        },
        "nteract": {
          "transient": {
            "deleting": false
          }
        },
        "gather": {
          "logged": 1678081593494
        }
      }
    },
    {
      "cell_type": "code",
      "source": [
        "from azure.ai.ml import MLClient\r\n",
        "from azure.identity import DefaultAzureCredential"
      ],
      "outputs": [],
      "execution_count": 10,
      "metadata": {
        "jupyter": {
          "source_hidden": false,
          "outputs_hidden": false
        },
        "nteract": {
          "transient": {
            "deleting": false
          }
        },
        "gather": {
          "logged": 1678083219076
        }
      }
    },
    {
      "cell_type": "code",
      "source": [
        "cred = DefaultAzureCredential()\r\n",
        "sub_id='c4fd644c-22da-4e2e-8c6c-86dfa6a28964'\r\n",
        "rg = 'cal-3118-920'\r\n",
        "ws_name = 'mlwb1ed'\r\n",
        "ws=MLClient(cred,sub_id, rg,ws_name)"
      ],
      "outputs": [],
      "execution_count": 15,
      "metadata": {
        "jupyter": {
          "source_hidden": false,
          "outputs_hidden": false
        },
        "nteract": {
          "transient": {
            "deleting": false
          }
        },
        "gather": {
          "logged": 1678083351679
        }
      }
    },
    {
      "cell_type": "code",
      "source": [
        "ws.jobs.create_or_update('src/job.yaml')"
      ],
      "outputs": [
        {
          "output_type": "error",
          "ename": "AttributeError",
          "evalue": "'str' object has no attribute 'compute'",
          "traceback": [
            "\u001b[0;31m---------------------------------------------------------------------------\u001b[0m",
            "\u001b[0;31mAttributeError\u001b[0m                            Traceback (most recent call last)",
            "Input \u001b[0;32mIn [16]\u001b[0m, in \u001b[0;36m<cell line: 1>\u001b[0;34m()\u001b[0m\n\u001b[0;32m----> 1\u001b[0m \u001b[43mws\u001b[49m\u001b[38;5;241;43m.\u001b[39;49m\u001b[43mjobs\u001b[49m\u001b[38;5;241;43m.\u001b[39;49m\u001b[43mcreate_or_update\u001b[49m\u001b[43m(\u001b[49m\u001b[38;5;124;43m'\u001b[39;49m\u001b[38;5;124;43msrc/job.yaml\u001b[39;49m\u001b[38;5;124;43m'\u001b[39;49m\u001b[43m)\u001b[49m\n",
            "File \u001b[0;32m/anaconda/envs/azureml_py310_sdkv2/lib/python3.10/site-packages/azure/core/tracing/decorator.py:78\u001b[0m, in \u001b[0;36mdistributed_trace.<locals>.decorator.<locals>.wrapper_use_tracer\u001b[0;34m(*args, **kwargs)\u001b[0m\n\u001b[1;32m     76\u001b[0m span_impl_type \u001b[38;5;241m=\u001b[39m settings\u001b[38;5;241m.\u001b[39mtracing_implementation()\n\u001b[1;32m     77\u001b[0m \u001b[38;5;28;01mif\u001b[39;00m span_impl_type \u001b[38;5;129;01mis\u001b[39;00m \u001b[38;5;28;01mNone\u001b[39;00m:\n\u001b[0;32m---> 78\u001b[0m     \u001b[38;5;28;01mreturn\u001b[39;00m \u001b[43mfunc\u001b[49m\u001b[43m(\u001b[49m\u001b[38;5;241;43m*\u001b[39;49m\u001b[43margs\u001b[49m\u001b[43m,\u001b[49m\u001b[43m \u001b[49m\u001b[38;5;241;43m*\u001b[39;49m\u001b[38;5;241;43m*\u001b[39;49m\u001b[43mkwargs\u001b[49m\u001b[43m)\u001b[49m\n\u001b[1;32m     80\u001b[0m \u001b[38;5;66;03m# Merge span is parameter is set, but only if no explicit parent are passed\u001b[39;00m\n\u001b[1;32m     81\u001b[0m \u001b[38;5;28;01mif\u001b[39;00m merge_span \u001b[38;5;129;01mand\u001b[39;00m \u001b[38;5;129;01mnot\u001b[39;00m passed_in_parent:\n",
            "File \u001b[0;32m/anaconda/envs/azureml_py310_sdkv2/lib/python3.10/site-packages/azure/ai/ml/operations/_job_operations.py:565\u001b[0m, in \u001b[0;36mJobOperations.create_or_update\u001b[0;34m(self, job, description, compute, tags, experiment_name, skip_validation, **kwargs)\u001b[0m\n\u001b[1;32m    563\u001b[0m     log_and_raise_error(ex)\n\u001b[1;32m    564\u001b[0m \u001b[38;5;28;01melse\u001b[39;00m:\n\u001b[0;32m--> 565\u001b[0m     \u001b[38;5;28;01mraise\u001b[39;00m ex\n",
            "File \u001b[0;32m/anaconda/envs/azureml_py310_sdkv2/lib/python3.10/site-packages/azure/ai/ml/operations/_job_operations.py:493\u001b[0m, in \u001b[0;36mJobOperations.create_or_update\u001b[0;34m(self, job, description, compute, tags, experiment_name, skip_validation, **kwargs)\u001b[0m\n\u001b[1;32m    490\u001b[0m \u001b[38;5;28;01mif\u001b[39;00m experiment_name \u001b[38;5;129;01mis\u001b[39;00m \u001b[38;5;129;01mnot\u001b[39;00m \u001b[38;5;28;01mNone\u001b[39;00m:\n\u001b[1;32m    491\u001b[0m     job\u001b[38;5;241m.\u001b[39mexperiment_name \u001b[38;5;241m=\u001b[39m experiment_name\n\u001b[0;32m--> 493\u001b[0m \u001b[38;5;28;01mif\u001b[39;00m \u001b[43mjob\u001b[49m\u001b[38;5;241;43m.\u001b[39;49m\u001b[43mcompute\u001b[49m \u001b[38;5;241m==\u001b[39m LOCAL_COMPUTE_TARGET:\n\u001b[1;32m    494\u001b[0m     job\u001b[38;5;241m.\u001b[39menvironment_variables[COMMON_RUNTIME_ENV_VAR] \u001b[38;5;241m=\u001b[39m \u001b[38;5;124m\"\u001b[39m\u001b[38;5;124mtrue\u001b[39m\u001b[38;5;124m\"\u001b[39m\n\u001b[1;32m    496\u001b[0m \u001b[38;5;28;01mif\u001b[39;00m \u001b[38;5;129;01mnot\u001b[39;00m skip_validation:\n",
            "\u001b[0;31mAttributeError\u001b[0m: 'str' object has no attribute 'compute'"
          ]
        }
      ],
      "execution_count": 16,
      "metadata": {
        "jupyter": {
          "source_hidden": false,
          "outputs_hidden": false
        },
        "nteract": {
          "transient": {
            "deleting": false
          }
        },
        "gather": {
          "logged": 1678083376492
        }
      }
    },
    {
      "cell_type": "code",
      "source": [
        "$schema: https://azuremlschemas.azureedge.net/latest/commandJob.schema.json\r\n",
        "type: command\r\n",
        "code: src\r\n",
        "command: >-\r\n",
        "  python main.py \r\n",
        "  --training_data ${{inputs.training_data}}\r\n",
        "inputs:\r\n",
        "  training_data: \r\n",
        "    path: azureml:nyc-taxi-data:1\r\n",
        "    mode: ro_mount  \r\n",
        "environment: azureml:AzureML-sklearn-0.24-ubuntu18.04-py37-cpu@latest\r\n",
        "compute: azureml:instance20230306T051931Z\r\n",
        "experiment_name: nyc-taxi-fare-prices\r\n",
        "description: Train a classification model on nyc taxi data to predict taxi fare prices."
      ],
      "outputs": [],
      "execution_count": null,
      "metadata": {
        "jupyter": {
          "source_hidden": false,
          "outputs_hidden": false
        },
        "nteract": {
          "transient": {
            "deleting": false
          }
        }
      }
    },
    {
      "cell_type": "code",
      "source": [
        "from azure.ai.ml.entities import Job"
      ],
      "outputs": [],
      "execution_count": 17,
      "metadata": {
        "jupyter": {
          "source_hidden": false,
          "outputs_hidden": false
        },
        "nteract": {
          "transient": {
            "deleting": false
          }
        },
        "gather": {
          "logged": 1678083549977
        }
      }
    },
    {
      "cell_type": "code",
      "source": [
        "ws.jobs.create_or_update(\r\n",
        "    compute='azureml:instance20230306T051931Z',\r\n",
        "    command='main.py --training_data ${{inputs.training_data}}',\r\n",
        "    environment='azureml:AzureML-sklearn-0.24-ubuntu18.04-py37-cpu@latest',\r\n",
        "    experiment_name='nyc-taxi-fare-prices-nb'\r\n",
        ")"
      ],
      "outputs": [
        {
          "output_type": "error",
          "ename": "TypeError",
          "evalue": "JobOperations.create_or_update() missing 1 required positional argument: 'job'",
          "traceback": [
            "\u001b[0;31m---------------------------------------------------------------------------\u001b[0m",
            "\u001b[0;31mTypeError\u001b[0m                                 Traceback (most recent call last)",
            "Input \u001b[0;32mIn [20]\u001b[0m, in \u001b[0;36m<cell line: 1>\u001b[0;34m()\u001b[0m\n\u001b[0;32m----> 1\u001b[0m \u001b[43mws\u001b[49m\u001b[38;5;241;43m.\u001b[39;49m\u001b[43mjobs\u001b[49m\u001b[38;5;241;43m.\u001b[39;49m\u001b[43mcreate_or_update\u001b[49m\u001b[43m(\u001b[49m\n\u001b[1;32m      2\u001b[0m \u001b[43m    \u001b[49m\u001b[43mcompute\u001b[49m\u001b[38;5;241;43m=\u001b[39;49m\u001b[38;5;124;43m'\u001b[39;49m\u001b[38;5;124;43mazureml:instance20230306T051931Z\u001b[39;49m\u001b[38;5;124;43m'\u001b[39;49m\u001b[43m,\u001b[49m\n\u001b[1;32m      3\u001b[0m \u001b[43m    \u001b[49m\u001b[43mcommand\u001b[49m\u001b[38;5;241;43m=\u001b[39;49m\u001b[38;5;124;43m'\u001b[39;49m\u001b[38;5;124;43mmain.py --training_data $\u001b[39;49m\u001b[38;5;124;43m{{\u001b[39;49m\u001b[38;5;124;43minputs.training_data}}\u001b[39;49m\u001b[38;5;124;43m'\u001b[39;49m\u001b[43m,\u001b[49m\n\u001b[1;32m      4\u001b[0m \u001b[43m    \u001b[49m\u001b[43menvironment\u001b[49m\u001b[38;5;241;43m=\u001b[39;49m\u001b[38;5;124;43m'\u001b[39;49m\u001b[38;5;124;43mazureml:AzureML-sklearn-0.24-ubuntu18.04-py37-cpu@latest\u001b[39;49m\u001b[38;5;124;43m'\u001b[39;49m\u001b[43m,\u001b[49m\n\u001b[1;32m      5\u001b[0m \u001b[43m    \u001b[49m\u001b[43mexperiment_name\u001b[49m\u001b[38;5;241;43m=\u001b[39;49m\u001b[38;5;124;43m'\u001b[39;49m\u001b[38;5;124;43mnyc-taxi-fare-prices-nb\u001b[39;49m\u001b[38;5;124;43m'\u001b[39;49m\n\u001b[1;32m      6\u001b[0m \u001b[43m)\u001b[49m\n",
            "File \u001b[0;32m/anaconda/envs/azureml_py310_sdkv2/lib/python3.10/site-packages/azure/core/tracing/decorator.py:78\u001b[0m, in \u001b[0;36mdistributed_trace.<locals>.decorator.<locals>.wrapper_use_tracer\u001b[0;34m(*args, **kwargs)\u001b[0m\n\u001b[1;32m     76\u001b[0m span_impl_type \u001b[38;5;241m=\u001b[39m settings\u001b[38;5;241m.\u001b[39mtracing_implementation()\n\u001b[1;32m     77\u001b[0m \u001b[38;5;28;01mif\u001b[39;00m span_impl_type \u001b[38;5;129;01mis\u001b[39;00m \u001b[38;5;28;01mNone\u001b[39;00m:\n\u001b[0;32m---> 78\u001b[0m     \u001b[38;5;28;01mreturn\u001b[39;00m \u001b[43mfunc\u001b[49m\u001b[43m(\u001b[49m\u001b[38;5;241;43m*\u001b[39;49m\u001b[43margs\u001b[49m\u001b[43m,\u001b[49m\u001b[43m \u001b[49m\u001b[38;5;241;43m*\u001b[39;49m\u001b[38;5;241;43m*\u001b[39;49m\u001b[43mkwargs\u001b[49m\u001b[43m)\u001b[49m\n\u001b[1;32m     80\u001b[0m \u001b[38;5;66;03m# Merge span is parameter is set, but only if no explicit parent are passed\u001b[39;00m\n\u001b[1;32m     81\u001b[0m \u001b[38;5;28;01mif\u001b[39;00m merge_span \u001b[38;5;129;01mand\u001b[39;00m \u001b[38;5;129;01mnot\u001b[39;00m passed_in_parent:\n",
            "\u001b[0;31mTypeError\u001b[0m: JobOperations.create_or_update() missing 1 required positional argument: 'job'"
          ]
        }
      ],
      "execution_count": 20,
      "metadata": {
        "jupyter": {
          "source_hidden": false,
          "outputs_hidden": false
        },
        "nteract": {
          "transient": {
            "deleting": false
          }
        },
        "gather": {
          "logged": 1678084316709
        }
      }
    },
    {
      "cell_type": "code",
      "source": [],
      "outputs": [
        {
          "output_type": "execute_result",
          "execution_count": 19,
          "data": {
            "text/plain": "'main.py --training_data ${{inputs.training_data}}'"
          },
          "metadata": {}
        }
      ],
      "execution_count": 19,
      "metadata": {
        "jupyter": {
          "source_hidden": false,
          "outputs_hidden": false
        },
        "nteract": {
          "transient": {
            "deleting": false
          }
        },
        "gather": {
          "logged": 1678084232885
        }
      }
    },
    {
      "cell_type": "code",
      "source": [],
      "outputs": [],
      "execution_count": null,
      "metadata": {
        "jupyter": {
          "source_hidden": false,
          "outputs_hidden": false
        },
        "nteract": {
          "transient": {
            "deleting": false
          }
        }
      }
    }
  ],
  "metadata": {
    "kernelspec": {
      "name": "python310-sdkv2",
      "language": "python",
      "display_name": "Python 3.10 - SDK v2"
    },
    "language_info": {
      "name": "python",
      "version": "3.10.9",
      "mimetype": "text/x-python",
      "codemirror_mode": {
        "name": "ipython",
        "version": 3
      },
      "pygments_lexer": "ipython3",
      "nbconvert_exporter": "python",
      "file_extension": ".py"
    },
    "microsoft": {
      "ms_spell_check": {
        "ms_spell_check_language": "en"
      },
      "host": {
        "AzureML": {
          "notebookHasBeenCompleted": true
        }
      }
    },
    "kernel_info": {
      "name": "python310-sdkv2"
    },
    "nteract": {
      "version": "nteract-front-end@1.0.0"
    }
  },
  "nbformat": 4,
  "nbformat_minor": 2
}